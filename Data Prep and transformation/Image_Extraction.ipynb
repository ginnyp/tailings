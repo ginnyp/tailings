{
  "nbformat": 4,
  "nbformat_minor": 0,
  "metadata": {
    "colab": {
      "name": "Image_Extract.ipynb",
      "provenance": [],
      "collapsed_sections": []
    },
    "kernelspec": {
      "name": "python3",
      "display_name": "Python 3"
    },
    "language_info": {
      "name": "python"
    }
  },
  "cells": [
    {
      "cell_type": "code",
      "execution_count": 59,
      "metadata": {
        "colab": {
          "base_uri": "https://localhost:8080/"
        },
        "id": "mhXjallTB5tl",
        "outputId": "088ccda0-b510-493c-fc53-7320ff960bff"
      },
      "outputs": [
        {
          "output_type": "stream",
          "name": "stdout",
          "text": [
            "To authorize access needed by Earth Engine, open the following URL in a web browser and follow the instructions. If the web browser does not start automatically, please manually browse the URL below.\n",
            "\n",
            "    https://code.earthengine.google.com/client-auth?scopes=https%3A//www.googleapis.com/auth/earthengine%20https%3A//www.googleapis.com/auth/devstorage.full_control&request_id=-h1rjQ-5s3gzmiRKtg7ZWm7UmNuw5adp4qYoCGugeCg&tc=bKXz5EtWEcBOOHFkcspBdmfeN1da0NVblUYc7HLyIFQ&cc=B3_tcj4D4y2RlJ0WnMWnxts_zDmKpry1Hcicr0a5Rw8\n",
            "\n",
            "The authorization workflow will generate a code, which you should paste in the box below. \n",
            "Enter verification code: 4/1AX4XfWjktsBFHVf0totrn9WXEABCGs4p1P0461lPLtmEJBjvAxhipEHFncA\n",
            "\n",
            "Successfully saved authorization token.\n"
          ]
        }
      ],
      "source": [
        "# Import the Earth Engine library.\n",
        "import ee\n",
        "\n",
        "# Trigger the authentication flow.\n",
        "ee.Authenticate()\n",
        "\n",
        "# Initialize the Earth Engine object, using the authentication credentials.\n",
        "ee.Initialize()"
      ]
    },
    {
      "cell_type": "code",
      "source": [
        "!pip install earthengine-api\n",
        "!pip install geopandas\n",
        "import os\n",
        "import sys\n",
        "import math"
      ],
      "metadata": {
        "colab": {
          "base_uri": "https://localhost:8080/"
        },
        "id": "rmjVshOzDww2",
        "outputId": "294dba4e-d4e2-4ff8-a026-6f2ad9ee561f"
      },
      "execution_count": 4,
      "outputs": [
        {
          "output_type": "stream",
          "name": "stdout",
          "text": [
            "Looking in indexes: https://pypi.org/simple, https://us-python.pkg.dev/colab-wheels/public/simple/\n",
            "Requirement already satisfied: earthengine-api in /usr/local/lib/python3.7/dist-packages (0.1.315)\n",
            "Requirement already satisfied: future in /usr/local/lib/python3.7/dist-packages (from earthengine-api) (0.16.0)\n",
            "Requirement already satisfied: google-auth>=1.4.1 in /usr/local/lib/python3.7/dist-packages (from earthengine-api) (1.35.0)\n",
            "Requirement already satisfied: httplib2shim in /usr/local/lib/python3.7/dist-packages (from earthengine-api) (0.0.3)\n",
            "Requirement already satisfied: google-api-python-client<2,>=1.12.1 in /usr/local/lib/python3.7/dist-packages (from earthengine-api) (1.12.11)\n",
            "Requirement already satisfied: six in /usr/local/lib/python3.7/dist-packages (from earthengine-api) (1.15.0)\n",
            "Requirement already satisfied: google-cloud-storage in /usr/local/lib/python3.7/dist-packages (from earthengine-api) (1.18.1)\n",
            "Requirement already satisfied: httplib2<1dev,>=0.9.2 in /usr/local/lib/python3.7/dist-packages (from earthengine-api) (0.17.4)\n",
            "Requirement already satisfied: google-auth-httplib2>=0.0.3 in /usr/local/lib/python3.7/dist-packages (from earthengine-api) (0.0.4)\n",
            "Requirement already satisfied: google-api-core<3dev,>=1.21.0 in /usr/local/lib/python3.7/dist-packages (from google-api-python-client<2,>=1.12.1->earthengine-api) (1.31.6)\n",
            "Requirement already satisfied: uritemplate<4dev,>=3.0.0 in /usr/local/lib/python3.7/dist-packages (from google-api-python-client<2,>=1.12.1->earthengine-api) (3.0.1)\n",
            "Requirement already satisfied: pytz in /usr/local/lib/python3.7/dist-packages (from google-api-core<3dev,>=1.21.0->google-api-python-client<2,>=1.12.1->earthengine-api) (2022.1)\n",
            "Requirement already satisfied: protobuf<4.0.0dev,>=3.12.0 in /usr/local/lib/python3.7/dist-packages (from google-api-core<3dev,>=1.21.0->google-api-python-client<2,>=1.12.1->earthengine-api) (3.17.3)\n",
            "Requirement already satisfied: packaging>=14.3 in /usr/local/lib/python3.7/dist-packages (from google-api-core<3dev,>=1.21.0->google-api-python-client<2,>=1.12.1->earthengine-api) (21.3)\n",
            "Requirement already satisfied: googleapis-common-protos<2.0dev,>=1.6.0 in /usr/local/lib/python3.7/dist-packages (from google-api-core<3dev,>=1.21.0->google-api-python-client<2,>=1.12.1->earthengine-api) (1.56.2)\n",
            "Requirement already satisfied: requests<3.0.0dev,>=2.18.0 in /usr/local/lib/python3.7/dist-packages (from google-api-core<3dev,>=1.21.0->google-api-python-client<2,>=1.12.1->earthengine-api) (2.23.0)\n",
            "Requirement already satisfied: setuptools>=40.3.0 in /usr/local/lib/python3.7/dist-packages (from google-api-core<3dev,>=1.21.0->google-api-python-client<2,>=1.12.1->earthengine-api) (57.4.0)\n",
            "Requirement already satisfied: rsa<5,>=3.1.4 in /usr/local/lib/python3.7/dist-packages (from google-auth>=1.4.1->earthengine-api) (4.8)\n",
            "Requirement already satisfied: cachetools<5.0,>=2.0.0 in /usr/local/lib/python3.7/dist-packages (from google-auth>=1.4.1->earthengine-api) (4.2.4)\n",
            "Requirement already satisfied: pyasn1-modules>=0.2.1 in /usr/local/lib/python3.7/dist-packages (from google-auth>=1.4.1->earthengine-api) (0.2.8)\n",
            "Requirement already satisfied: pyparsing!=3.0.5,>=2.0.2 in /usr/local/lib/python3.7/dist-packages (from packaging>=14.3->google-api-core<3dev,>=1.21.0->google-api-python-client<2,>=1.12.1->earthengine-api) (3.0.9)\n",
            "Requirement already satisfied: pyasn1<0.5.0,>=0.4.6 in /usr/local/lib/python3.7/dist-packages (from pyasn1-modules>=0.2.1->google-auth>=1.4.1->earthengine-api) (0.4.8)\n",
            "Requirement already satisfied: chardet<4,>=3.0.2 in /usr/local/lib/python3.7/dist-packages (from requests<3.0.0dev,>=2.18.0->google-api-core<3dev,>=1.21.0->google-api-python-client<2,>=1.12.1->earthengine-api) (3.0.4)\n",
            "Requirement already satisfied: certifi>=2017.4.17 in /usr/local/lib/python3.7/dist-packages (from requests<3.0.0dev,>=2.18.0->google-api-core<3dev,>=1.21.0->google-api-python-client<2,>=1.12.1->earthengine-api) (2022.6.15)\n",
            "Requirement already satisfied: urllib3!=1.25.0,!=1.25.1,<1.26,>=1.21.1 in /usr/local/lib/python3.7/dist-packages (from requests<3.0.0dev,>=2.18.0->google-api-core<3dev,>=1.21.0->google-api-python-client<2,>=1.12.1->earthengine-api) (1.24.3)\n",
            "Requirement already satisfied: idna<3,>=2.5 in /usr/local/lib/python3.7/dist-packages (from requests<3.0.0dev,>=2.18.0->google-api-core<3dev,>=1.21.0->google-api-python-client<2,>=1.12.1->earthengine-api) (2.10)\n",
            "Requirement already satisfied: google-resumable-media<0.5.0dev,>=0.3.1 in /usr/local/lib/python3.7/dist-packages (from google-cloud-storage->earthengine-api) (0.4.1)\n",
            "Requirement already satisfied: google-cloud-core<2.0dev,>=1.0.0 in /usr/local/lib/python3.7/dist-packages (from google-cloud-storage->earthengine-api) (1.0.3)\n",
            "Looking in indexes: https://pypi.org/simple, https://us-python.pkg.dev/colab-wheels/public/simple/\n",
            "Collecting geopandas\n",
            "  Downloading geopandas-0.10.2-py2.py3-none-any.whl (1.0 MB)\n",
            "\u001b[K     |████████████████████████████████| 1.0 MB 5.1 MB/s \n",
            "\u001b[?25hCollecting fiona>=1.8\n",
            "  Downloading Fiona-1.8.21-cp37-cp37m-manylinux2014_x86_64.whl (16.7 MB)\n",
            "\u001b[K     |████████████████████████████████| 16.7 MB 1.3 MB/s \n",
            "\u001b[?25hRequirement already satisfied: pandas>=0.25.0 in /usr/local/lib/python3.7/dist-packages (from geopandas) (1.3.5)\n",
            "Requirement already satisfied: shapely>=1.6 in /usr/local/lib/python3.7/dist-packages (from geopandas) (1.8.2)\n",
            "Collecting pyproj>=2.2.0\n",
            "  Downloading pyproj-3.2.1-cp37-cp37m-manylinux2010_x86_64.whl (6.3 MB)\n",
            "\u001b[K     |████████████████████████████████| 6.3 MB 38.6 MB/s \n",
            "\u001b[?25hRequirement already satisfied: click>=4.0 in /usr/local/lib/python3.7/dist-packages (from fiona>=1.8->geopandas) (7.1.2)\n",
            "Collecting cligj>=0.5\n",
            "  Downloading cligj-0.7.2-py3-none-any.whl (7.1 kB)\n",
            "Collecting click-plugins>=1.0\n",
            "  Downloading click_plugins-1.1.1-py2.py3-none-any.whl (7.5 kB)\n",
            "Collecting munch\n",
            "  Downloading munch-2.5.0-py2.py3-none-any.whl (10 kB)\n",
            "Requirement already satisfied: certifi in /usr/local/lib/python3.7/dist-packages (from fiona>=1.8->geopandas) (2022.6.15)\n",
            "Requirement already satisfied: six>=1.7 in /usr/local/lib/python3.7/dist-packages (from fiona>=1.8->geopandas) (1.15.0)\n",
            "Requirement already satisfied: attrs>=17 in /usr/local/lib/python3.7/dist-packages (from fiona>=1.8->geopandas) (21.4.0)\n",
            "Requirement already satisfied: setuptools in /usr/local/lib/python3.7/dist-packages (from fiona>=1.8->geopandas) (57.4.0)\n",
            "Requirement already satisfied: python-dateutil>=2.7.3 in /usr/local/lib/python3.7/dist-packages (from pandas>=0.25.0->geopandas) (2.8.2)\n",
            "Requirement already satisfied: numpy>=1.17.3 in /usr/local/lib/python3.7/dist-packages (from pandas>=0.25.0->geopandas) (1.21.6)\n",
            "Requirement already satisfied: pytz>=2017.3 in /usr/local/lib/python3.7/dist-packages (from pandas>=0.25.0->geopandas) (2022.1)\n",
            "Installing collected packages: munch, cligj, click-plugins, pyproj, fiona, geopandas\n",
            "Successfully installed click-plugins-1.1.1 cligj-0.7.2 fiona-1.8.21 geopandas-0.10.2 munch-2.5.0 pyproj-3.2.1\n"
          ]
        }
      ]
    },
    {
      "cell_type": "code",
      "source": [
        "import ee\n",
        "import pandas as pd\n",
        "import numpy as np\n",
        "import geopandas as gpd"
      ],
      "metadata": {
        "id": "wg6W1aZ9DxX1"
      },
      "execution_count": 178,
      "outputs": []
    },
    {
      "cell_type": "code",
      "source": [
        "## start here for running from csv"
      ],
      "metadata": {
        "id": "-zSyWxZrDwuh"
      },
      "execution_count": null,
      "outputs": []
    },
    {
      "cell_type": "code",
      "source": [
        "from google.colab import drive\n",
        "drive.mount('/content/drive')"
      ],
      "metadata": {
        "colab": {
          "base_uri": "https://localhost:8080/"
        },
        "id": "YSUTaMpHDwyu",
        "outputId": "7bfa87c3-949e-4e0d-fcfb-9a1d2ad04ada"
      },
      "execution_count": 185,
      "outputs": [
        {
          "output_type": "stream",
          "name": "stdout",
          "text": [
            "Drive already mounted at /content/drive; to attempt to forcibly remount, call drive.mount(\"/content/drive\", force_remount=True).\n"
          ]
        }
      ]
    },
    {
      "cell_type": "code",
      "source": [
        "path = '/content/drive/MyDrive/tailings/az_positives.csv'\n",
        "df_pos = pd.read_csv(path)"
      ],
      "metadata": {
        "id": "sGJbI9VtDw0c"
      },
      "execution_count": 186,
      "outputs": []
    },
    {
      "cell_type": "code",
      "source": [
        "#run this cell for positives csv for cleaning\n",
        "df_pos['clean'] = df_pos.tailingsCentroid.str[31:-2]\n",
        "df_pos['class'] = 'positive'\n",
        "df_pos[['long', 'lat']] = df_pos['clean'].str.split(',', 2, expand=True)\n",
        "df_pos = df_pos[['lat', 'long', 'class']]\n",
        "df_pos['lat'] = df_pos['lat'].astype('float64')\n",
        "df_pos['long'] = df_pos['long'].astype('float64')"
      ],
      "metadata": {
        "colab": {
          "base_uri": "https://localhost:8080/"
        },
        "id": "POMdQrunx8NT",
        "outputId": "5fc09a5f-5cc3-4090-a8ce-7e55fc7d0f57"
      },
      "execution_count": 187,
      "outputs": [
        {
          "output_type": "stream",
          "name": "stderr",
          "text": [
            "/usr/local/lib/python3.7/dist-packages/ipykernel_launcher.py:6: SettingWithCopyWarning: \n",
            "A value is trying to be set on a copy of a slice from a DataFrame.\n",
            "Try using .loc[row_indexer,col_indexer] = value instead\n",
            "\n",
            "See the caveats in the documentation: https://pandas.pydata.org/pandas-docs/stable/user_guide/indexing.html#returning-a-view-versus-a-copy\n",
            "  \n",
            "/usr/local/lib/python3.7/dist-packages/ipykernel_launcher.py:7: SettingWithCopyWarning: \n",
            "A value is trying to be set on a copy of a slice from a DataFrame.\n",
            "Try using .loc[row_indexer,col_indexer] = value instead\n",
            "\n",
            "See the caveats in the documentation: https://pandas.pydata.org/pandas-docs/stable/user_guide/indexing.html#returning-a-view-versus-a-copy\n",
            "  import sys\n"
          ]
        }
      ]
    },
    {
      "cell_type": "code",
      "source": [
        "#code to extract coordinates\n",
        "def offset(lat,lon,x,y):\n",
        "\n",
        "\t#Earth’s radius, sphere\n",
        "\tR=6378137\n",
        "\n",
        "\t#Coordinate offsets in radians\n",
        "\tdLat = x/R\n",
        "\tdLon = y/(R*math.cos(math.pi*lat/180))\n",
        "\n",
        "\treturn lat + dLat * 180/math.pi, lon + dLon * 180/math.pi\n",
        " \n",
        "\n",
        "def exportImage(data,size=0):\n",
        "  # Loop the csv file.\n",
        "  for d in range(data.shape[0]):\n",
        "    x = data[d][0]\n",
        "    y = data[d][1]\n",
        "    \n",
        "    llx , lly = offset(x,y,-size/2,-size/2)\n",
        "    urx , ury = offset(x,y,size/2,\tsize/2)\n",
        "\n",
        "    label = data[d][2]\n",
        "\n",
        "    geom_raw = [[lly,llx], [ury,llx], [ury,urx], [lly,urx]]\n",
        "\n",
        "    geom = ee.Geometry.Polygon(geom_raw)\n",
        "\n",
        "\n",
        "    collection = (ee.ImageCollection(\"COPERNICUS/S2\")\n",
        "              # Select the Red, Green and Blue image bands, as well as the cloud masking layer.\n",
        "              .select(['B4', 'B3', 'B2', 'QA60'])\n",
        "              # Filter for images within a given date range.\n",
        "              .filter(ee.Filter.date('2022-01-01', '2022-06-01'))\n",
        "              # Filter for images that overlap with the assigned geometry.\n",
        "              .filterBounds(geom)\n",
        "              # Filter for images that have less then 20% cloud coverage.\n",
        "              .filter(ee.Filter.lt('CLOUDY_PIXEL_PERCENTAGE', 20))\n",
        "              # Apply cloud mask.\n",
        "              .map(maskS2clouds)\n",
        "              )\n",
        "    # Sort images in the collection by index (which is equivalent to sorting by date), \n",
        "    # with the oldest images at the front of the collection.\n",
        "    # Convert collection into a single image mosaic where only images at the top of the collection are visible.\n",
        "    image = collection.sort('system:index', opt_ascending=False).mosaic()\n",
        "\n",
        "    # Assign visualization parameters to the image.\n",
        "    image = image.visualize(bands=['B4', 'B3', 'B2'],\n",
        "                          min=[0.0, 0.0, 0.0],\n",
        "                          max=[0.3, 0.3, 0.3]\n",
        "                        )\n",
        "\n",
        "\n",
        "\n",
        "    # Assign export parameters.\n",
        "    task_config = {\n",
        "      'region': geom,\n",
        "      'folder': 'neg_2km',\n",
        "      'scale': 10,\n",
        "      'crs': 'EPSG:4326',\n",
        "      'description': label + str(d)\n",
        "      }\n",
        "\n",
        "    # Export Image\n",
        "    task = ee.batch.Export.image.toDrive(image, **task_config)\n",
        "    task.start()"
      ],
      "metadata": {
        "id": "nyzU8N5YE-fi"
      },
      "execution_count": 249,
      "outputs": []
    },
    {
      "cell_type": "code",
      "source": [
        "data = df_city.values\n",
        "exportImage(data,2000)"
      ],
      "metadata": {
        "id": "v3QuNVHhFSxe"
      },
      "execution_count": 250,
      "outputs": []
    },
    {
      "cell_type": "code",
      "source": [
        ""
      ],
      "metadata": {
        "id": "p8CIBIlOaE1p"
      },
      "execution_count": null,
      "outputs": []
    },
    {
      "cell_type": "code",
      "source": [
        ""
      ],
      "metadata": {
        "id": "ZgzK5bX7aE4e"
      },
      "execution_count": null,
      "outputs": []
    },
    {
      "cell_type": "code",
      "source": [
        ""
      ],
      "metadata": {
        "id": "xBMmEhPraE7N"
      },
      "execution_count": null,
      "outputs": []
    },
    {
      "cell_type": "code",
      "source": [
        ""
      ],
      "metadata": {
        "id": "iMrskHbYaE9Z"
      },
      "execution_count": null,
      "outputs": []
    },
    {
      "cell_type": "code",
      "source": [
        ""
      ],
      "metadata": {
        "id": "j14XWvOezUI7"
      },
      "execution_count": null,
      "outputs": []
    },
    {
      "cell_type": "code",
      "source": [
        ""
      ],
      "metadata": {
        "id": "2v2RmwT2zULO"
      },
      "execution_count": null,
      "outputs": []
    },
    {
      "cell_type": "code",
      "source": [
        ""
      ],
      "metadata": {
        "id": "YUNw87tVzUNZ"
      },
      "execution_count": null,
      "outputs": []
    },
    {
      "cell_type": "code",
      "source": [
        ""
      ],
      "metadata": {
        "id": "EhxtatvDzUPr"
      },
      "execution_count": null,
      "outputs": []
    },
    {
      "cell_type": "markdown",
      "source": [
        "Creating negatives file:"
      ],
      "metadata": {
        "id": "tOWX-xpBzUj9"
      }
    },
    {
      "cell_type": "code",
      "source": [
        "from  geopy.geocoders import Nominatim"
      ],
      "metadata": {
        "id": "VmKCnmzQzYn_"
      },
      "execution_count": 191,
      "outputs": []
    },
    {
      "cell_type": "code",
      "source": [
        "path = '/content/drive/MyDrive/tailings/az_cities.csv'\n",
        "df_city = pd.read_csv(path)"
      ],
      "metadata": {
        "id": "s4h5h-fn5OLR"
      },
      "execution_count": 239,
      "outputs": []
    },
    {
      "cell_type": "code",
      "source": [
        "df_city"
      ],
      "metadata": {
        "colab": {
          "base_uri": "https://localhost:8080/",
          "height": 423
        },
        "id": "vIlTylwN6NUE",
        "outputId": "fb0240e0-ad80-4506-844f-5df35d408f3b"
      },
      "execution_count": 240,
      "outputs": [
        {
          "output_type": "execute_result",
          "data": {
            "text/plain": [
              "           city\n",
              "0       Phoenix\n",
              "1        Tucson\n",
              "2          Mesa\n",
              "3      Chandler\n",
              "4    Scottsdale\n",
              "..          ...\n",
              "242     Arivaca\n",
              "243    San Jose\n",
              "244    Ash Fork\n",
              "245   East Fork\n",
              "246    Wittmann\n",
              "\n",
              "[247 rows x 1 columns]"
            ],
            "text/html": [
              "\n",
              "  <div id=\"df-1da9192a-1d16-4fa2-966c-f0477a8153b3\">\n",
              "    <div class=\"colab-df-container\">\n",
              "      <div>\n",
              "<style scoped>\n",
              "    .dataframe tbody tr th:only-of-type {\n",
              "        vertical-align: middle;\n",
              "    }\n",
              "\n",
              "    .dataframe tbody tr th {\n",
              "        vertical-align: top;\n",
              "    }\n",
              "\n",
              "    .dataframe thead th {\n",
              "        text-align: right;\n",
              "    }\n",
              "</style>\n",
              "<table border=\"1\" class=\"dataframe\">\n",
              "  <thead>\n",
              "    <tr style=\"text-align: right;\">\n",
              "      <th></th>\n",
              "      <th>city</th>\n",
              "    </tr>\n",
              "  </thead>\n",
              "  <tbody>\n",
              "    <tr>\n",
              "      <th>0</th>\n",
              "      <td>Phoenix</td>\n",
              "    </tr>\n",
              "    <tr>\n",
              "      <th>1</th>\n",
              "      <td>Tucson</td>\n",
              "    </tr>\n",
              "    <tr>\n",
              "      <th>2</th>\n",
              "      <td>Mesa</td>\n",
              "    </tr>\n",
              "    <tr>\n",
              "      <th>3</th>\n",
              "      <td>Chandler</td>\n",
              "    </tr>\n",
              "    <tr>\n",
              "      <th>4</th>\n",
              "      <td>Scottsdale</td>\n",
              "    </tr>\n",
              "    <tr>\n",
              "      <th>...</th>\n",
              "      <td>...</td>\n",
              "    </tr>\n",
              "    <tr>\n",
              "      <th>242</th>\n",
              "      <td>Arivaca</td>\n",
              "    </tr>\n",
              "    <tr>\n",
              "      <th>243</th>\n",
              "      <td>San Jose</td>\n",
              "    </tr>\n",
              "    <tr>\n",
              "      <th>244</th>\n",
              "      <td>Ash Fork</td>\n",
              "    </tr>\n",
              "    <tr>\n",
              "      <th>245</th>\n",
              "      <td>East Fork</td>\n",
              "    </tr>\n",
              "    <tr>\n",
              "      <th>246</th>\n",
              "      <td>Wittmann</td>\n",
              "    </tr>\n",
              "  </tbody>\n",
              "</table>\n",
              "<p>247 rows × 1 columns</p>\n",
              "</div>\n",
              "      <button class=\"colab-df-convert\" onclick=\"convertToInteractive('df-1da9192a-1d16-4fa2-966c-f0477a8153b3')\"\n",
              "              title=\"Convert this dataframe to an interactive table.\"\n",
              "              style=\"display:none;\">\n",
              "        \n",
              "  <svg xmlns=\"http://www.w3.org/2000/svg\" height=\"24px\"viewBox=\"0 0 24 24\"\n",
              "       width=\"24px\">\n",
              "    <path d=\"M0 0h24v24H0V0z\" fill=\"none\"/>\n",
              "    <path d=\"M18.56 5.44l.94 2.06.94-2.06 2.06-.94-2.06-.94-.94-2.06-.94 2.06-2.06.94zm-11 1L8.5 8.5l.94-2.06 2.06-.94-2.06-.94L8.5 2.5l-.94 2.06-2.06.94zm10 10l.94 2.06.94-2.06 2.06-.94-2.06-.94-.94-2.06-.94 2.06-2.06.94z\"/><path d=\"M17.41 7.96l-1.37-1.37c-.4-.4-.92-.59-1.43-.59-.52 0-1.04.2-1.43.59L10.3 9.45l-7.72 7.72c-.78.78-.78 2.05 0 2.83L4 21.41c.39.39.9.59 1.41.59.51 0 1.02-.2 1.41-.59l7.78-7.78 2.81-2.81c.8-.78.8-2.07 0-2.86zM5.41 20L4 18.59l7.72-7.72 1.47 1.35L5.41 20z\"/>\n",
              "  </svg>\n",
              "      </button>\n",
              "      \n",
              "  <style>\n",
              "    .colab-df-container {\n",
              "      display:flex;\n",
              "      flex-wrap:wrap;\n",
              "      gap: 12px;\n",
              "    }\n",
              "\n",
              "    .colab-df-convert {\n",
              "      background-color: #E8F0FE;\n",
              "      border: none;\n",
              "      border-radius: 50%;\n",
              "      cursor: pointer;\n",
              "      display: none;\n",
              "      fill: #1967D2;\n",
              "      height: 32px;\n",
              "      padding: 0 0 0 0;\n",
              "      width: 32px;\n",
              "    }\n",
              "\n",
              "    .colab-df-convert:hover {\n",
              "      background-color: #E2EBFA;\n",
              "      box-shadow: 0px 1px 2px rgba(60, 64, 67, 0.3), 0px 1px 3px 1px rgba(60, 64, 67, 0.15);\n",
              "      fill: #174EA6;\n",
              "    }\n",
              "\n",
              "    [theme=dark] .colab-df-convert {\n",
              "      background-color: #3B4455;\n",
              "      fill: #D2E3FC;\n",
              "    }\n",
              "\n",
              "    [theme=dark] .colab-df-convert:hover {\n",
              "      background-color: #434B5C;\n",
              "      box-shadow: 0px 1px 3px 1px rgba(0, 0, 0, 0.15);\n",
              "      filter: drop-shadow(0px 1px 2px rgba(0, 0, 0, 0.3));\n",
              "      fill: #FFFFFF;\n",
              "    }\n",
              "  </style>\n",
              "\n",
              "      <script>\n",
              "        const buttonEl =\n",
              "          document.querySelector('#df-1da9192a-1d16-4fa2-966c-f0477a8153b3 button.colab-df-convert');\n",
              "        buttonEl.style.display =\n",
              "          google.colab.kernel.accessAllowed ? 'block' : 'none';\n",
              "\n",
              "        async function convertToInteractive(key) {\n",
              "          const element = document.querySelector('#df-1da9192a-1d16-4fa2-966c-f0477a8153b3');\n",
              "          const dataTable =\n",
              "            await google.colab.kernel.invokeFunction('convertToInteractive',\n",
              "                                                     [key], {});\n",
              "          if (!dataTable) return;\n",
              "\n",
              "          const docLinkHtml = 'Like what you see? Visit the ' +\n",
              "            '<a target=\"_blank\" href=https://colab.research.google.com/notebooks/data_table.ipynb>data table notebook</a>'\n",
              "            + ' to learn more about interactive tables.';\n",
              "          element.innerHTML = '';\n",
              "          dataTable['output_type'] = 'display_data';\n",
              "          await google.colab.output.renderOutput(dataTable, element);\n",
              "          const docLink = document.createElement('div');\n",
              "          docLink.innerHTML = docLinkHtml;\n",
              "          element.appendChild(docLink);\n",
              "        }\n",
              "      </script>\n",
              "    </div>\n",
              "  </div>\n",
              "  "
            ]
          },
          "metadata": {},
          "execution_count": 240
        }
      ]
    },
    {
      "cell_type": "code",
      "source": [
        "# city_list = df_city.city.values.tolist()"
      ],
      "metadata": {
        "id": "GiPPGQ8C5ZPL"
      },
      "execution_count": 195,
      "outputs": []
    },
    {
      "cell_type": "code",
      "source": [
        "# city_list[:5]"
      ],
      "metadata": {
        "colab": {
          "base_uri": "https://localhost:8080/"
        },
        "id": "cOhFL0aW5Zt3",
        "outputId": "293e73db-2d90-4565-87b0-413073f9b467"
      },
      "execution_count": 197,
      "outputs": [
        {
          "output_type": "execute_result",
          "data": {
            "text/plain": [
              "['Phoenix', 'Tucson', 'Mesa', 'Chandler', 'Scottsdale']"
            ]
          },
          "metadata": {},
          "execution_count": 197
        }
      ]
    },
    {
      "cell_type": "code",
      "source": [
        "df_city['city'][:5]"
      ],
      "metadata": {
        "colab": {
          "base_uri": "https://localhost:8080/"
        },
        "id": "QUILaHL65nKJ",
        "outputId": "2d1ce485-ae00-49ef-e7d6-0ce603394039"
      },
      "execution_count": 223,
      "outputs": [
        {
          "output_type": "execute_result",
          "data": {
            "text/plain": [
              "0       Phoenix\n",
              "1        Tucson\n",
              "2          Mesa\n",
              "3      Chandler\n",
              "4    Scottsdale\n",
              "Name: city, dtype: object"
            ]
          },
          "metadata": {},
          "execution_count": 223
        }
      ]
    },
    {
      "cell_type": "code",
      "source": [
        "#test\n",
        "geolocator = Nominatim()\n",
        "city = 'Teec Nos Pos'\n",
        "state = \"Arizona\"\n",
        "loc = geolocator.geocode(city+','+ state)\n",
        "print(\"latitude is :\" ,loc.latitude,\"\\nlongtitude is:\" ,loc.longitude)"
      ],
      "metadata": {
        "colab": {
          "base_uri": "https://localhost:8080/"
        },
        "id": "rLEwkZoazYxd",
        "outputId": "0d0c937c-cf96-4b43-eba9-99c3c44b61d7"
      },
      "execution_count": 235,
      "outputs": [
        {
          "output_type": "stream",
          "name": "stderr",
          "text": [
            "/usr/local/lib/python3.7/dist-packages/geopy/geocoders/osm.py:143: UserWarning: Using Nominatim with the default \"geopy/1.17.0\" `user_agent` is strongly discouraged, as it violates Nominatim's ToS https://operations.osmfoundation.org/policies/nominatim/ and may possibly cause 403 and 429 HTTP errors. Please specify a custom `user_agent` with `Nominatim(user_agent=\"my-application\")` or by overriding the default `user_agent`: `geopy.geocoders.options.default_user_agent = \"my-application\"`. In geopy 2.0 this will become an exception.\n",
            "  UserWarning\n"
          ]
        },
        {
          "output_type": "stream",
          "name": "stdout",
          "text": [
            "latitude is : 36.918902 \n",
            "longtitude is: -109.07962728700835\n"
          ]
        }
      ]
    },
    {
      "cell_type": "code",
      "source": [
        "# df_neg = pd.DataFrame()\n",
        "# df_neg['place'] = city_list\n",
        "# # df_neg['type'] = 'city'"
      ],
      "metadata": {
        "id": "5ics6Z9zzY9g"
      },
      "execution_count": 200,
      "outputs": []
    },
    {
      "cell_type": "code",
      "source": [
        "# df_neg"
      ],
      "metadata": {
        "colab": {
          "base_uri": "https://localhost:8080/",
          "height": 423
        },
        "id": "OL5uUayS6C_j",
        "outputId": "6c492602-efb7-4420-d30e-91dfaf1a9f03"
      },
      "execution_count": 207,
      "outputs": [
        {
          "output_type": "execute_result",
          "data": {
            "text/plain": [
              "          place\n",
              "0       Phoenix\n",
              "1        Tucson\n",
              "2          Mesa\n",
              "3      Chandler\n",
              "4    Scottsdale\n",
              "..          ...\n",
              "245     Arivaca\n",
              "246    San Jose\n",
              "247    Ash Fork\n",
              "248   East Fork\n",
              "249    Wittmann\n",
              "\n",
              "[250 rows x 1 columns]"
            ],
            "text/html": [
              "\n",
              "  <div id=\"df-ea369520-760b-400f-9e14-d5894a3dffdd\">\n",
              "    <div class=\"colab-df-container\">\n",
              "      <div>\n",
              "<style scoped>\n",
              "    .dataframe tbody tr th:only-of-type {\n",
              "        vertical-align: middle;\n",
              "    }\n",
              "\n",
              "    .dataframe tbody tr th {\n",
              "        vertical-align: top;\n",
              "    }\n",
              "\n",
              "    .dataframe thead th {\n",
              "        text-align: right;\n",
              "    }\n",
              "</style>\n",
              "<table border=\"1\" class=\"dataframe\">\n",
              "  <thead>\n",
              "    <tr style=\"text-align: right;\">\n",
              "      <th></th>\n",
              "      <th>place</th>\n",
              "    </tr>\n",
              "  </thead>\n",
              "  <tbody>\n",
              "    <tr>\n",
              "      <th>0</th>\n",
              "      <td>Phoenix</td>\n",
              "    </tr>\n",
              "    <tr>\n",
              "      <th>1</th>\n",
              "      <td>Tucson</td>\n",
              "    </tr>\n",
              "    <tr>\n",
              "      <th>2</th>\n",
              "      <td>Mesa</td>\n",
              "    </tr>\n",
              "    <tr>\n",
              "      <th>3</th>\n",
              "      <td>Chandler</td>\n",
              "    </tr>\n",
              "    <tr>\n",
              "      <th>4</th>\n",
              "      <td>Scottsdale</td>\n",
              "    </tr>\n",
              "    <tr>\n",
              "      <th>...</th>\n",
              "      <td>...</td>\n",
              "    </tr>\n",
              "    <tr>\n",
              "      <th>245</th>\n",
              "      <td>Arivaca</td>\n",
              "    </tr>\n",
              "    <tr>\n",
              "      <th>246</th>\n",
              "      <td>San Jose</td>\n",
              "    </tr>\n",
              "    <tr>\n",
              "      <th>247</th>\n",
              "      <td>Ash Fork</td>\n",
              "    </tr>\n",
              "    <tr>\n",
              "      <th>248</th>\n",
              "      <td>East Fork</td>\n",
              "    </tr>\n",
              "    <tr>\n",
              "      <th>249</th>\n",
              "      <td>Wittmann</td>\n",
              "    </tr>\n",
              "  </tbody>\n",
              "</table>\n",
              "<p>250 rows × 1 columns</p>\n",
              "</div>\n",
              "      <button class=\"colab-df-convert\" onclick=\"convertToInteractive('df-ea369520-760b-400f-9e14-d5894a3dffdd')\"\n",
              "              title=\"Convert this dataframe to an interactive table.\"\n",
              "              style=\"display:none;\">\n",
              "        \n",
              "  <svg xmlns=\"http://www.w3.org/2000/svg\" height=\"24px\"viewBox=\"0 0 24 24\"\n",
              "       width=\"24px\">\n",
              "    <path d=\"M0 0h24v24H0V0z\" fill=\"none\"/>\n",
              "    <path d=\"M18.56 5.44l.94 2.06.94-2.06 2.06-.94-2.06-.94-.94-2.06-.94 2.06-2.06.94zm-11 1L8.5 8.5l.94-2.06 2.06-.94-2.06-.94L8.5 2.5l-.94 2.06-2.06.94zm10 10l.94 2.06.94-2.06 2.06-.94-2.06-.94-.94-2.06-.94 2.06-2.06.94z\"/><path d=\"M17.41 7.96l-1.37-1.37c-.4-.4-.92-.59-1.43-.59-.52 0-1.04.2-1.43.59L10.3 9.45l-7.72 7.72c-.78.78-.78 2.05 0 2.83L4 21.41c.39.39.9.59 1.41.59.51 0 1.02-.2 1.41-.59l7.78-7.78 2.81-2.81c.8-.78.8-2.07 0-2.86zM5.41 20L4 18.59l7.72-7.72 1.47 1.35L5.41 20z\"/>\n",
              "  </svg>\n",
              "      </button>\n",
              "      \n",
              "  <style>\n",
              "    .colab-df-container {\n",
              "      display:flex;\n",
              "      flex-wrap:wrap;\n",
              "      gap: 12px;\n",
              "    }\n",
              "\n",
              "    .colab-df-convert {\n",
              "      background-color: #E8F0FE;\n",
              "      border: none;\n",
              "      border-radius: 50%;\n",
              "      cursor: pointer;\n",
              "      display: none;\n",
              "      fill: #1967D2;\n",
              "      height: 32px;\n",
              "      padding: 0 0 0 0;\n",
              "      width: 32px;\n",
              "    }\n",
              "\n",
              "    .colab-df-convert:hover {\n",
              "      background-color: #E2EBFA;\n",
              "      box-shadow: 0px 1px 2px rgba(60, 64, 67, 0.3), 0px 1px 3px 1px rgba(60, 64, 67, 0.15);\n",
              "      fill: #174EA6;\n",
              "    }\n",
              "\n",
              "    [theme=dark] .colab-df-convert {\n",
              "      background-color: #3B4455;\n",
              "      fill: #D2E3FC;\n",
              "    }\n",
              "\n",
              "    [theme=dark] .colab-df-convert:hover {\n",
              "      background-color: #434B5C;\n",
              "      box-shadow: 0px 1px 3px 1px rgba(0, 0, 0, 0.15);\n",
              "      filter: drop-shadow(0px 1px 2px rgba(0, 0, 0, 0.3));\n",
              "      fill: #FFFFFF;\n",
              "    }\n",
              "  </style>\n",
              "\n",
              "      <script>\n",
              "        const buttonEl =\n",
              "          document.querySelector('#df-ea369520-760b-400f-9e14-d5894a3dffdd button.colab-df-convert');\n",
              "        buttonEl.style.display =\n",
              "          google.colab.kernel.accessAllowed ? 'block' : 'none';\n",
              "\n",
              "        async function convertToInteractive(key) {\n",
              "          const element = document.querySelector('#df-ea369520-760b-400f-9e14-d5894a3dffdd');\n",
              "          const dataTable =\n",
              "            await google.colab.kernel.invokeFunction('convertToInteractive',\n",
              "                                                     [key], {});\n",
              "          if (!dataTable) return;\n",
              "\n",
              "          const docLinkHtml = 'Like what you see? Visit the ' +\n",
              "            '<a target=\"_blank\" href=https://colab.research.google.com/notebooks/data_table.ipynb>data table notebook</a>'\n",
              "            + ' to learn more about interactive tables.';\n",
              "          element.innerHTML = '';\n",
              "          dataTable['output_type'] = 'display_data';\n",
              "          await google.colab.output.renderOutput(dataTable, element);\n",
              "          const docLink = document.createElement('div');\n",
              "          docLink.innerHTML = docLinkHtml;\n",
              "          element.appendChild(docLink);\n",
              "        }\n",
              "      </script>\n",
              "    </div>\n",
              "  </div>\n",
              "  "
            ]
          },
          "metadata": {},
          "execution_count": 207
        }
      ]
    },
    {
      "cell_type": "code",
      "source": [
        "# #suburbs\n",
        "# df2 = pd.DataFrame()\n",
        "# df2['place'] = ['Safety Harbor', 'Vero Beach', 'Venice', 'Apalachicola', 'Captiva', 'Crystal River', 'Pompano Beach', 'Jupiter', 'Dunedin', 'Sebring', 'Winter Park', 'Anna Maria Island',\n",
        "#                 'Fernandina Beach', 'Islamorada', 'Coconut Creek', 'Coral Springs', 'Mount Dora', 'Matlacha', 'Havana', 'Bristol']\n",
        "# df2['type'] = 'suburbs'"
      ],
      "metadata": {
        "id": "2969iOsQzfao"
      },
      "execution_count": null,
      "outputs": []
    },
    {
      "cell_type": "code",
      "source": [
        "# df3 = pd.DataFrame()\n",
        "# df3['place'] = ['Lake City', 'Lady Lake', 'Lake Mary', 'Lauderdale Lakes', 'Lake Worth', 'Lake Alfred', 'Lake Park', 'Lakeland', 'Lake Wales', 'Groveland']\n",
        "# df3['type'] = 'lakes'"
      ],
      "metadata": {
        "id": "6VMtP8YVzfew"
      },
      "execution_count": null,
      "outputs": []
    },
    {
      "cell_type": "code",
      "source": [
        "# df4 = pd.DataFrame()\n",
        "# df4['place'] = ['La Crosse', 'Sopchoppy', 'McIntosh', 'Hillcrest Heights', 'Ebro', 'Cinco Bayou', 'Highland Park', 'Brooker', 'Manalapan', 'Otter Creek']\n",
        "# df4['type'] = 'least_pop'"
      ],
      "metadata": {
        "id": "b7xX91-UzfiT"
      },
      "execution_count": null,
      "outputs": []
    },
    {
      "cell_type": "code",
      "source": [
        "# fulldf = pd.concat([df, df2, df3, df4], ignore_index=True)\n",
        "# fulldf"
      ],
      "metadata": {
        "id": "4qTCwiPozk_Y"
      },
      "execution_count": null,
      "outputs": []
    },
    {
      "cell_type": "code",
      "source": [
        "lat = []\n",
        "long = []\n",
        "for item in df_city['city']:\n",
        "  geolocator = Nominatim()\n",
        "  city = item\n",
        "  state = \"Arizona\"\n",
        "  loc = geolocator.geocode(city + ',' + state)\n",
        "  lat.append(loc.latitude)\n",
        "  long.append(loc.longitude)"
      ],
      "metadata": {
        "colab": {
          "base_uri": "https://localhost:8080/"
        },
        "id": "rUJxB75NzlBU",
        "outputId": "7f2a32a1-943a-4255-c12d-402a211a0f73"
      },
      "execution_count": 241,
      "outputs": [
        {
          "output_type": "stream",
          "name": "stderr",
          "text": [
            "/usr/local/lib/python3.7/dist-packages/geopy/geocoders/osm.py:143: UserWarning: Using Nominatim with the default \"geopy/1.17.0\" `user_agent` is strongly discouraged, as it violates Nominatim's ToS https://operations.osmfoundation.org/policies/nominatim/ and may possibly cause 403 and 429 HTTP errors. Please specify a custom `user_agent` with `Nominatim(user_agent=\"my-application\")` or by overriding the default `user_agent`: `geopy.geocoders.options.default_user_agent = \"my-application\"`. In geopy 2.0 this will become an exception.\n",
            "  UserWarning\n"
          ]
        }
      ]
    },
    {
      "cell_type": "code",
      "source": [
        "df_city['lat'] = lat\n",
        "df_city['long'] = long\n",
        "df_city['class'] = 'negative'\n",
        "df_city = df_city[['lat', 'long', 'class']]\n",
        "df_city['lat'] = df_city['lat'].astype('float64')\n",
        "df_city['long'] = df_city['long'].astype('float64')"
      ],
      "metadata": {
        "colab": {
          "base_uri": "https://localhost:8080/"
        },
        "id": "TVe-AyfkzlD6",
        "outputId": "ddb211dc-ef89-4bd5-c402-44ab406d56ca"
      },
      "execution_count": 244,
      "outputs": [
        {
          "output_type": "stream",
          "name": "stderr",
          "text": [
            "/usr/local/lib/python3.7/dist-packages/ipykernel_launcher.py:5: SettingWithCopyWarning: \n",
            "A value is trying to be set on a copy of a slice from a DataFrame.\n",
            "Try using .loc[row_indexer,col_indexer] = value instead\n",
            "\n",
            "See the caveats in the documentation: https://pandas.pydata.org/pandas-docs/stable/user_guide/indexing.html#returning-a-view-versus-a-copy\n",
            "  \"\"\"\n",
            "/usr/local/lib/python3.7/dist-packages/ipykernel_launcher.py:6: SettingWithCopyWarning: \n",
            "A value is trying to be set on a copy of a slice from a DataFrame.\n",
            "Try using .loc[row_indexer,col_indexer] = value instead\n",
            "\n",
            "See the caveats in the documentation: https://pandas.pydata.org/pandas-docs/stable/user_guide/indexing.html#returning-a-view-versus-a-copy\n",
            "  \n"
          ]
        }
      ]
    },
    {
      "cell_type": "code",
      "source": [
        "# fulldf.to_csv('/content/drive/My Drive/fl_training.csv', encoding='utf-8', index=False)"
      ],
      "metadata": {
        "id": "GbMcSbZ7zrW2"
      },
      "execution_count": null,
      "outputs": []
    },
    {
      "cell_type": "code",
      "source": [
        ""
      ],
      "metadata": {
        "id": "3xlaBvZUzrZA"
      },
      "execution_count": null,
      "outputs": []
    },
    {
      "cell_type": "code",
      "source": [
        ""
      ],
      "metadata": {
        "id": "mj42mzllzlGR"
      },
      "execution_count": null,
      "outputs": []
    },
    {
      "cell_type": "code",
      "source": [
        ""
      ],
      "metadata": {
        "id": "SGBOwAkLzZAA"
      },
      "execution_count": null,
      "outputs": []
    },
    {
      "cell_type": "markdown",
      "source": [
        "Scratchwork:"
      ],
      "metadata": {
        "id": "Jrv6wUiXzJIo"
      }
    },
    {
      "cell_type": "code",
      "source": [
        "# use this for testing one-off coordinates\n",
        "\n",
        "\n",
        "# This is the cloud masking function provided by GEE but adapted for use in Python.\n",
        "def maskS2clouds(image):\n",
        "    qa = image.select('QA60')\n",
        "\n",
        "    # Bits 10 and 11 are clouds and cirrus, respectively.\n",
        "    cloudBitMask = 1 << 10\n",
        "    cirrusBitMask = 1 << 11\n",
        "\n",
        "    # Both flags should be set to zero, indicating clear conditions.\n",
        "    mask = qa.bitwiseAnd(cloudBitMask).eq(0)\n",
        "    mask = mask.bitwiseAnd(cirrusBitMask).eq(0)\n",
        "\n",
        "    return image.updateMask(mask).divide(10000)\n",
        "\n",
        "\n",
        "# Define the geometry of the area for which you would like images\n",
        "\n",
        "# geom1 =[[33.8777, -13.4055], [33.8777, -13.3157], [33.9701, -13.3157], [33.9701, -13.4055]]\n",
        "\n",
        "#test az coordinates that works\n",
        "# geom1 = [[-112.0068, 33.4268], [-111.8452, 33.4268], [-111.8452, 33.5615], [-112.0068, 33.5615]]\n",
        "\n",
        "# geom1 =[[-112.00680781469596, 33.426845253691035], [-111.84522898530405, 33.426845253691035], [-111.84522898530405, 33.561592546308965], [-112.00680781469596, 33.561592546308965]]\n",
        "\n",
        "#test positive polygons\n",
        "\n",
        "geom1 =[[-110.74634974491924,33.077723055754134] , [-110.74460172576156,33.077723055754134], [-110.74460172576156,33.079230279423406], [-110.74634974491924,33.079230279423406]]\n",
        "\n",
        "geom = ee.Geometry.Polygon(geom1)\n",
        "\n",
        "# Call collection of satellite images.\n",
        "collection = (ee.ImageCollection(\"COPERNICUS/S2\")\n",
        "              # Select the Red, Green and Blue image bands, as well as the cloud masking layer.\n",
        "              .select(['B4', 'B3', 'B2', 'QA60'])\n",
        "              # Filter for images within a given date range.\n",
        "              .filter(ee.Filter.date('2017-01-01', '2017-03-31'))\n",
        "              # Filter for images that overlap with the assigned geometry.\n",
        "              .filterBounds(geom)\n",
        "              # Filter for images that have less then 20% cloud coverage.\n",
        "              .filter(ee.Filter.lt('CLOUDY_PIXEL_PERCENTAGE', 20))\n",
        "              # Apply cloud mask.\n",
        "              .map(maskS2clouds)\n",
        "             )\n",
        "\n",
        "# Sort images in the collection by index (which is equivalent to sorting by date), \n",
        "# with the oldest images at the front of the collection.\n",
        "# Convert collection into a single image mosaic where only images at the top of the collection are visible.\n",
        "image = collection.sort('system:index', opt_ascending=False).mosaic()\n",
        "\n",
        "\n",
        "# Assign visualization parameters to the image.\n",
        "image = image.visualize(bands=['B4', 'B3', 'B2'],\n",
        "                        min=[0.0, 0.0, 0.0],\n",
        "                        max=[0.3, 0.3, 0.3]\n",
        "                       )\n",
        "\n",
        "# Assign export parameters.\n",
        "task_config = {\n",
        "    'region': geom.coordinates().getInfo(),\n",
        "    'folder': 'tailings',\n",
        "    'scale': 10,\n",
        "    'crs': 'EPSG:4326',\n",
        "    'description': 'test_format',\n",
        "}\n",
        "\n",
        "# Export Image\n",
        "task = ee.batch.Export.image.toDrive(image, **task_config)\n",
        "task.start()"
      ],
      "metadata": {
        "id": "qQ5g2Ty1CG3I"
      },
      "execution_count": 60,
      "outputs": []
    },
    {
      "cell_type": "code",
      "source": [
        "##pull negatives for arizona, nevada, new mexico"
      ],
      "metadata": {
        "id": "G_zfU0qtaE_E"
      },
      "execution_count": null,
      "outputs": []
    },
    {
      "cell_type": "code",
      "source": [
        ""
      ],
      "metadata": {
        "id": "yedtWRYzaFA9"
      },
      "execution_count": null,
      "outputs": []
    },
    {
      "cell_type": "code",
      "source": [
        ""
      ],
      "metadata": {
        "id": "MPNcZbRsaFC2"
      },
      "execution_count": null,
      "outputs": []
    },
    {
      "cell_type": "code",
      "source": [
        ""
      ],
      "metadata": {
        "id": "Rsr9QZBnaFE5"
      },
      "execution_count": null,
      "outputs": []
    },
    {
      "cell_type": "code",
      "source": [
        "def offset(lat,lon,x,y):\n",
        "\n",
        "\t#Earth’s radius, sphere\n",
        "\tR=6378137\n",
        "\n",
        "\t#Coordinate offsets in radians\n",
        "\tdLat = x/R\n",
        "\tdLon = y/(R*math.cos(math.pi*lat/180))\n",
        "\n",
        "\treturn lat + dLat * 180/math.pi, lon + dLon * 180/math.pi"
      ],
      "metadata": {
        "id": "sjqdze4oaFHC"
      },
      "execution_count": null,
      "outputs": []
    },
    {
      "cell_type": "code",
      "source": [
        "def exportImage(data,size=0):\n",
        "  # Loop the csv file.\n",
        "  for d in range(data.shape[0]):\n",
        "    x = data[d][0]\n",
        "    y = data[d][1]\n",
        "    \n",
        "    llx , lly = offset(x,y,-size/2,-size/2)\n",
        "    urx , ury = offset(x,y,size/2,\tsize/2)\n",
        "\n",
        "    label = data[d][2]\n",
        "\n",
        "    geom_raw = [[lly,llx], [ury,llx], [ury,urx], [lly,urx]]\n",
        "\n",
        "    geom = ee.Geometry.Polygon(geom_raw)\n",
        "    \n",
        "    print(geom_raw)"
      ],
      "metadata": {
        "id": "WfRMHzjzaFtI"
      },
      "execution_count": null,
      "outputs": []
    },
    {
      "cell_type": "code",
      "source": [
        "data = df_bonus.values\n",
        "exportImage(data,15000)"
      ],
      "metadata": {
        "colab": {
          "base_uri": "https://localhost:8080/"
        },
        "id": "Qt8zKL4NaHM-",
        "outputId": "3a71f612-8cd9-44cd-abbc-13425a3890b5"
      },
      "execution_count": null,
      "outputs": [
        {
          "output_type": "stream",
          "name": "stdout",
          "text": [
            "[[-112.00680781469596, 33.426845253691035], [-111.84522898530405, 33.426845253691035], [-111.84522898530405, 33.561592546308965], [-112.00680781469596, 33.561592546308965]]\n",
            "[[-112.15488774452213, 33.38106305369104], [-111.99339425547787, 33.38106305369104], [-111.99339425547787, 33.51581034630897], [-112.15488774452213, 33.51581034630897]]\n",
            "[[-111.84383224726236, 34.80058625369104], [-111.67960075273766, 34.80058625369104], [-111.67960075273766, 34.93533354630897], [-111.84383224726236, 34.93533354630897]]\n"
          ]
        }
      ]
    },
    {
      "cell_type": "code",
      "source": [
        "[[33.426845253691035, -112.00680781469596], [33.426845253691035, -111.84522898530405], [33.561592546308965, -111.84522898530405], [33.561592546308965, -112.00680781469596]]"
      ],
      "metadata": {
        "colab": {
          "base_uri": "https://localhost:8080/"
        },
        "id": "UXePFYSMdtTH",
        "outputId": "998acd2b-d3db-4abc-ea1b-58ef015f8a28"
      },
      "execution_count": null,
      "outputs": [
        {
          "output_type": "execute_result",
          "data": {
            "text/plain": [
              "[[-112.0068, 33.4268],\n",
              " [-111.8452, 33.4268],\n",
              " [-111.8452, 33.5615],\n",
              " [-112.0068, 33.5615]]"
            ]
          },
          "metadata": {},
          "execution_count": 53
        }
      ]
    },
    {
      "cell_type": "code",
      "source": [
        " [[-112.0068, 33.4268], [-111.8452, 33.4268], [-111.8452, 33.5615], [-112.0068, 33.5615]]"
      ],
      "metadata": {
        "id": "_eE7JpA2eBqQ"
      },
      "execution_count": null,
      "outputs": []
    }
  ]
}