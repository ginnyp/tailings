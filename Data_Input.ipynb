{
  "nbformat": 4,
  "nbformat_minor": 0,
  "metadata": {
    "colab": {
      "name": "Data_Input.ipynb",
      "provenance": [],
      "authorship_tag": "ABX9TyONN9ehqVIP/870jXCP0rSd",
      "include_colab_link": true
    },
    "kernelspec": {
      "name": "python3",
      "display_name": "Python 3"
    },
    "language_info": {
      "name": "python"
    }
  },
  "cells": [
    {
      "cell_type": "markdown",
      "metadata": {
        "id": "view-in-github",
        "colab_type": "text"
      },
      "source": [
        "<a href=\"https://colab.research.google.com/github/ginnyp/tailings/blob/main/Data_Input.ipynb\" target=\"_parent\"><img src=\"https://colab.research.google.com/assets/colab-badge.svg\" alt=\"Open In Colab\"/></a>"
      ]
    },
    {
      "cell_type": "code",
      "source": [
        "!pip install imagecodecs\n",
        "!pip install tifffile\n",
        "from os import listdir\n",
        "from PIL import Image\n",
        "import numpy as np\n",
        "import imagecodecs\n",
        "import tifffile"
      ],
      "metadata": {
        "colab": {
          "base_uri": "https://localhost:8080/"
        },
        "id": "MwTOzsVNLVmV",
        "outputId": "bfb93f55-a388-41fa-d197-4b68391690cb"
      },
      "execution_count": 5,
      "outputs": [
        {
          "output_type": "stream",
          "name": "stdout",
          "text": [
            "Looking in indexes: https://pypi.org/simple, https://us-python.pkg.dev/colab-wheels/public/simple/\n",
            "Requirement already satisfied: imagecodecs in /usr/local/lib/python3.7/dist-packages (2021.11.20)\n",
            "Requirement already satisfied: numpy>=1.16.5 in /usr/local/lib/python3.7/dist-packages (from imagecodecs) (1.21.6)\n",
            "Looking in indexes: https://pypi.org/simple, https://us-python.pkg.dev/colab-wheels/public/simple/\n",
            "Requirement already satisfied: tifffile in /usr/local/lib/python3.7/dist-packages (2021.11.2)\n",
            "Requirement already satisfied: numpy>=1.15.1 in /usr/local/lib/python3.7/dist-packages (from tifffile) (1.21.6)\n"
          ]
        }
      ]
    },
    {
      "cell_type": "code",
      "execution_count": 2,
      "metadata": {
        "colab": {
          "base_uri": "https://localhost:8080/"
        },
        "id": "CH4pfIhvcumN",
        "outputId": "44788e49-ca61-4c8e-859f-b4084721221e"
      },
      "outputs": [
        {
          "output_type": "stream",
          "name": "stdout",
          "text": [
            "Drive already mounted at /content/drive; to attempt to forcibly remount, call drive.mount(\"/content/drive\", force_remount=True).\n"
          ]
        }
      ],
      "source": [
        "from google.colab import drive\n",
        "drive.mount('/content/drive')"
      ]
    },
    {
      "cell_type": "code",
      "source": [
        "%cd /content/drive/My Drive"
      ],
      "metadata": {
        "colab": {
          "base_uri": "https://localhost:8080/"
        },
        "id": "UgJn55d0dBoL",
        "outputId": "124626d4-9a5e-40e3-d20b-292bcf42617c"
      },
      "execution_count": 3,
      "outputs": [
        {
          "output_type": "stream",
          "name": "stdout",
          "text": [
            "/content/drive/My Drive\n"
          ]
        }
      ]
    },
    {
      "cell_type": "code",
      "source": [
        "def find_tif_filenames(path_to_dir, suffix=\".tif\" ):\n",
        "    filenames = listdir(path_to_dir)\n",
        "    return [ filename for filename in filenames if filename.endswith(suffix) ]\n",
        "\n",
        "filenames = find_tif_filenames('Spectral_Images/', suffix=\".tif\" )\n",
        "full_means = np.array([2.2924939e-01, 2.1322541e-01, 2.0127715e-01, 2.0999090e-01, 2.1631649e-01,\n",
        " 2.3187117e-01, 2.4387099e-01, 2.3595208e-01, 1.3747813e-01, 5.0497252e-02,\n",
        " 1.7904355e-01, 1.4753111e-01, 1.9511680e-01, 1.8461023e+03])\n",
        "for i in filenames:\n",
        "\n",
        "  top_im = tifffile.imread(f'Topography_Images/{i}')\n",
        "  spec_im = tifffile.imread(f'Spectral_Images/{i}')\n",
        "\n",
        "  #resize topography image since resolution is different\n",
        "  h, w, c = spec_im.shape\n",
        "  top_im.resize((h,w,1), refcheck=False)\n",
        "\n",
        "  #join arrays\n",
        "  top_im = np.array(top_im)\n",
        "  spec_im = np.array(spec_im)\n",
        "  full_im = np.dstack((spec_im,top_im))\n",
        "  mean_by_axis = np.mean(full_im, axis=(0,1))\n",
        "  full_means = np.dstack((full_means,mean_by_axis))"
      ],
      "metadata": {
        "id": "iENBTeQdcvMr"
      },
      "execution_count": 38,
      "outputs": []
    },
    {
      "cell_type": "code",
      "source": [
        "mean_full = np.mean(full_means, axis=(0,2))\n",
        "print(mean_full)"
      ],
      "metadata": {
        "colab": {
          "base_uri": "https://localhost:8080/"
        },
        "id": "6ctN8BI-0TBP",
        "outputId": "cf2cb1c2-b5a6-42c9-dc0a-afb8aaebb12b"
      },
      "execution_count": 41,
      "outputs": [
        {
          "output_type": "stream",
          "name": "stdout",
          "text": [
            "[1.70140599e-01 1.62686737e-01 1.69743412e-01 1.97815756e-01\n",
            " 2.13992556e-01 2.44620035e-01 2.63748881e-01 2.57883966e-01\n",
            " 1.22852794e-01 6.98247156e-03 3.00580886e-01 2.35338864e-01\n",
            " 1.41931328e-02 1.05726519e+03]\n"
          ]
        }
      ]
    },
    {
      "cell_type": "code",
      "source": [
        ""
      ],
      "metadata": {
        "id": "t34Ju5E6LUaK"
      },
      "execution_count": null,
      "outputs": []
    }
  ]
}