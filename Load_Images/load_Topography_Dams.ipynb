{
  "nbformat": 4,
  "nbformat_minor": 0,
  "metadata": {
    "colab": {
      "name": "load_Topography_Dams.ipynb",
      "provenance": [],
      "collapsed_sections": [],
      "include_colab_link": true
    },
    "kernelspec": {
      "name": "python3",
      "display_name": "Python 3"
    }
  },
  "cells": [
    {
      "cell_type": "markdown",
      "metadata": {
        "id": "view-in-github",
        "colab_type": "text"
      },
      "source": [
        "<a href=\"https://colab.research.google.com/github/ginnyp/tailings/blob/main/load_Topography_Dams.ipynb\" target=\"_parent\"><img src=\"https://colab.research.google.com/assets/colab-badge.svg\" alt=\"Open In Colab\"/></a>"
      ]
    },
    {
      "cell_type": "markdown",
      "metadata": {
        "id": "9eysUOMdrzPq"
      },
      "source": [
        "# Creates image samples from Sentinel 2 collections\n",
        "\n",
        "This script is part of a research project published on the paper \"Mining and Tailings Dam Detection In Satellite Imagery Using Deep Learning\" by Remis Balaniuk, Olga Isupova and Steven Reece. This project was developed at the University of Oxford from September 2019 to February 2020.\n",
        "It was prepared to be used on the Google Colaboratory platform (see https://colab.research.google.com/notebooks/welcome.ipynb ).  "
      ]
    },
    {
      "cell_type": "code",
      "metadata": {
        "id": "vE1lo3lKgL3p",
        "outputId": "344d8e8c-bed0-4739-a95f-fe2a47c8665c",
        "colab": {
          "base_uri": "https://localhost:8080/"
        }
      },
      "source": [
        "!pip install earthengine-api\n",
        "!pip install geopandas\n",
        "import os\n",
        "import sys\n",
        "import math"
      ],
      "execution_count": null,
      "outputs": [
        {
          "output_type": "stream",
          "name": "stdout",
          "text": [
            "Looking in indexes: https://pypi.org/simple, https://us-python.pkg.dev/colab-wheels/public/simple/\n",
            "Requirement already satisfied: earthengine-api in /usr/local/lib/python3.7/dist-packages (0.1.316)\n",
            "Requirement already satisfied: google-cloud-storage in /usr/local/lib/python3.7/dist-packages (from earthengine-api) (1.18.1)\n",
            "Requirement already satisfied: six in /usr/local/lib/python3.7/dist-packages (from earthengine-api) (1.15.0)\n",
            "Requirement already satisfied: httplib2<1dev,>=0.9.2 in /usr/local/lib/python3.7/dist-packages (from earthengine-api) (0.17.4)\n",
            "Requirement already satisfied: httplib2shim in /usr/local/lib/python3.7/dist-packages (from earthengine-api) (0.0.3)\n",
            "Requirement already satisfied: google-auth-httplib2>=0.0.3 in /usr/local/lib/python3.7/dist-packages (from earthengine-api) (0.0.4)\n",
            "Requirement already satisfied: google-api-python-client<2,>=1.12.1 in /usr/local/lib/python3.7/dist-packages (from earthengine-api) (1.12.11)\n",
            "Requirement already satisfied: future in /usr/local/lib/python3.7/dist-packages (from earthengine-api) (0.16.0)\n",
            "Requirement already satisfied: google-auth>=1.4.1 in /usr/local/lib/python3.7/dist-packages (from earthengine-api) (1.35.0)\n",
            "Requirement already satisfied: uritemplate<4dev,>=3.0.0 in /usr/local/lib/python3.7/dist-packages (from google-api-python-client<2,>=1.12.1->earthengine-api) (3.0.1)\n",
            "Requirement already satisfied: google-api-core<3dev,>=1.21.0 in /usr/local/lib/python3.7/dist-packages (from google-api-python-client<2,>=1.12.1->earthengine-api) (1.31.6)\n",
            "Requirement already satisfied: pytz in /usr/local/lib/python3.7/dist-packages (from google-api-core<3dev,>=1.21.0->google-api-python-client<2,>=1.12.1->earthengine-api) (2022.1)\n",
            "Requirement already satisfied: setuptools>=40.3.0 in /usr/local/lib/python3.7/dist-packages (from google-api-core<3dev,>=1.21.0->google-api-python-client<2,>=1.12.1->earthengine-api) (57.4.0)\n",
            "Requirement already satisfied: googleapis-common-protos<2.0dev,>=1.6.0 in /usr/local/lib/python3.7/dist-packages (from google-api-core<3dev,>=1.21.0->google-api-python-client<2,>=1.12.1->earthengine-api) (1.56.3)\n",
            "Requirement already satisfied: protobuf<4.0.0dev,>=3.12.0 in /usr/local/lib/python3.7/dist-packages (from google-api-core<3dev,>=1.21.0->google-api-python-client<2,>=1.12.1->earthengine-api) (3.17.3)\n",
            "Requirement already satisfied: packaging>=14.3 in /usr/local/lib/python3.7/dist-packages (from google-api-core<3dev,>=1.21.0->google-api-python-client<2,>=1.12.1->earthengine-api) (21.3)\n",
            "Requirement already satisfied: requests<3.0.0dev,>=2.18.0 in /usr/local/lib/python3.7/dist-packages (from google-api-core<3dev,>=1.21.0->google-api-python-client<2,>=1.12.1->earthengine-api) (2.23.0)\n",
            "Requirement already satisfied: cachetools<5.0,>=2.0.0 in /usr/local/lib/python3.7/dist-packages (from google-auth>=1.4.1->earthengine-api) (4.2.4)\n",
            "Requirement already satisfied: pyasn1-modules>=0.2.1 in /usr/local/lib/python3.7/dist-packages (from google-auth>=1.4.1->earthengine-api) (0.2.8)\n",
            "Requirement already satisfied: rsa<5,>=3.1.4 in /usr/local/lib/python3.7/dist-packages (from google-auth>=1.4.1->earthengine-api) (4.8)\n",
            "Requirement already satisfied: pyparsing!=3.0.5,>=2.0.2 in /usr/local/lib/python3.7/dist-packages (from packaging>=14.3->google-api-core<3dev,>=1.21.0->google-api-python-client<2,>=1.12.1->earthengine-api) (3.0.9)\n",
            "Requirement already satisfied: pyasn1<0.5.0,>=0.4.6 in /usr/local/lib/python3.7/dist-packages (from pyasn1-modules>=0.2.1->google-auth>=1.4.1->earthengine-api) (0.4.8)\n",
            "Requirement already satisfied: certifi>=2017.4.17 in /usr/local/lib/python3.7/dist-packages (from requests<3.0.0dev,>=2.18.0->google-api-core<3dev,>=1.21.0->google-api-python-client<2,>=1.12.1->earthengine-api) (2022.6.15)\n",
            "Requirement already satisfied: idna<3,>=2.5 in /usr/local/lib/python3.7/dist-packages (from requests<3.0.0dev,>=2.18.0->google-api-core<3dev,>=1.21.0->google-api-python-client<2,>=1.12.1->earthengine-api) (2.10)\n",
            "Requirement already satisfied: urllib3!=1.25.0,!=1.25.1,<1.26,>=1.21.1 in /usr/local/lib/python3.7/dist-packages (from requests<3.0.0dev,>=2.18.0->google-api-core<3dev,>=1.21.0->google-api-python-client<2,>=1.12.1->earthengine-api) (1.24.3)\n",
            "Requirement already satisfied: chardet<4,>=3.0.2 in /usr/local/lib/python3.7/dist-packages (from requests<3.0.0dev,>=2.18.0->google-api-core<3dev,>=1.21.0->google-api-python-client<2,>=1.12.1->earthengine-api) (3.0.4)\n",
            "Requirement already satisfied: google-resumable-media<0.5.0dev,>=0.3.1 in /usr/local/lib/python3.7/dist-packages (from google-cloud-storage->earthengine-api) (0.4.1)\n",
            "Requirement already satisfied: google-cloud-core<2.0dev,>=1.0.0 in /usr/local/lib/python3.7/dist-packages (from google-cloud-storage->earthengine-api) (1.0.3)\n",
            "Looking in indexes: https://pypi.org/simple, https://us-python.pkg.dev/colab-wheels/public/simple/\n",
            "Collecting geopandas\n",
            "  Downloading geopandas-0.10.2-py2.py3-none-any.whl (1.0 MB)\n",
            "\u001b[K     |████████████████████████████████| 1.0 MB 4.2 MB/s \n",
            "\u001b[?25hCollecting pyproj>=2.2.0\n",
            "  Downloading pyproj-3.2.1-cp37-cp37m-manylinux2010_x86_64.whl (6.3 MB)\n",
            "\u001b[K     |████████████████████████████████| 6.3 MB 45.9 MB/s \n",
            "\u001b[?25hRequirement already satisfied: pandas>=0.25.0 in /usr/local/lib/python3.7/dist-packages (from geopandas) (1.3.5)\n",
            "Collecting fiona>=1.8\n",
            "  Downloading Fiona-1.8.21-cp37-cp37m-manylinux2014_x86_64.whl (16.7 MB)\n",
            "\u001b[K     |████████████████████████████████| 16.7 MB 42.1 MB/s \n",
            "\u001b[?25hRequirement already satisfied: shapely>=1.6 in /usr/local/lib/python3.7/dist-packages (from geopandas) (1.8.2)\n",
            "Collecting cligj>=0.5\n",
            "  Downloading cligj-0.7.2-py3-none-any.whl (7.1 kB)\n",
            "Requirement already satisfied: attrs>=17 in /usr/local/lib/python3.7/dist-packages (from fiona>=1.8->geopandas) (21.4.0)\n",
            "Requirement already satisfied: certifi in /usr/local/lib/python3.7/dist-packages (from fiona>=1.8->geopandas) (2022.6.15)\n",
            "Collecting munch\n",
            "  Downloading munch-2.5.0-py2.py3-none-any.whl (10 kB)\n",
            "Requirement already satisfied: setuptools in /usr/local/lib/python3.7/dist-packages (from fiona>=1.8->geopandas) (57.4.0)\n",
            "Requirement already satisfied: click>=4.0 in /usr/local/lib/python3.7/dist-packages (from fiona>=1.8->geopandas) (7.1.2)\n",
            "Collecting click-plugins>=1.0\n",
            "  Downloading click_plugins-1.1.1-py2.py3-none-any.whl (7.5 kB)\n",
            "Requirement already satisfied: six>=1.7 in /usr/local/lib/python3.7/dist-packages (from fiona>=1.8->geopandas) (1.15.0)\n",
            "Requirement already satisfied: python-dateutil>=2.7.3 in /usr/local/lib/python3.7/dist-packages (from pandas>=0.25.0->geopandas) (2.8.2)\n",
            "Requirement already satisfied: numpy>=1.17.3 in /usr/local/lib/python3.7/dist-packages (from pandas>=0.25.0->geopandas) (1.21.6)\n",
            "Requirement already satisfied: pytz>=2017.3 in /usr/local/lib/python3.7/dist-packages (from pandas>=0.25.0->geopandas) (2022.1)\n",
            "Installing collected packages: munch, cligj, click-plugins, pyproj, fiona, geopandas\n",
            "Successfully installed click-plugins-1.1.1 cligj-0.7.2 fiona-1.8.21 geopandas-0.10.2 munch-2.5.0 pyproj-3.2.1\n"
          ]
        }
      ]
    },
    {
      "cell_type": "markdown",
      "metadata": {
        "id": "MtPTLWyssv-t"
      },
      "source": [
        "The user must have an Google account and sign up to use the Google Earth Engine (see https://earthengine.google.com/)."
      ]
    },
    {
      "cell_type": "code",
      "metadata": {
        "id": "-5HIkyT5gWKW",
        "outputId": "f59cf66c-1e02-423e-ff99-1c5a49639bb9",
        "colab": {
          "base_uri": "https://localhost:8080/"
        }
      },
      "source": [
        "# Import the Earth Engine library.\n",
        "import ee\n",
        "\n",
        "# Trigger the authentication flow.\n",
        "ee.Authenticate()"
      ],
      "execution_count": null,
      "outputs": [
        {
          "output_type": "stream",
          "name": "stdout",
          "text": [
            "To authorize access needed by Earth Engine, open the following URL in a web browser and follow the instructions. If the web browser does not start automatically, please manually browse the URL below.\n",
            "\n",
            "    https://code.earthengine.google.com/client-auth?scopes=https%3A//www.googleapis.com/auth/earthengine%20https%3A//www.googleapis.com/auth/devstorage.full_control&request_id=k0CMZsXEeFxbUIvI9aVbfu0zHVsJL6fGDnC8zuDILfA&tc=9h4iFWuurZKlGXrRo2BMHoMpT4It4LZtF4eYiFmyeMU&cc=emjYjlgIsJQLQhvdWw2P-a37gyXbvPUCzZppK_PIK3M\n",
            "\n",
            "The authorization workflow will generate a code, which you should paste in the box below. \n",
            "Enter verification code: 4/1AdQt8qiYAmmFyLyvKV3kGwEDLBLI124_byRolujAUgq2tnxvmzGcNkrvaUE\n",
            "\n",
            "Successfully saved authorization token.\n"
          ]
        }
      ]
    },
    {
      "cell_type": "markdown",
      "metadata": {
        "id": "tO2PBWWCDih8"
      },
      "source": [
        "Image samples will be saved on the user Google Drive. The drive must be mounted before proceeding."
      ]
    },
    {
      "cell_type": "code",
      "metadata": {
        "id": "XAoS6bhLgXI-",
        "outputId": "7af37305-0118-4b09-9ba9-7f1f52398fa6",
        "colab": {
          "base_uri": "https://localhost:8080/"
        }
      },
      "source": [
        "from google.colab import drive\n",
        "drive.mount('/content/drive')"
      ],
      "execution_count": null,
      "outputs": [
        {
          "output_type": "stream",
          "name": "stdout",
          "text": [
            "Mounted at /content/drive\n"
          ]
        }
      ]
    },
    {
      "cell_type": "code",
      "source": [
        "# Installs geemap package\n",
        "import subprocess\n",
        "\n",
        "try:\n",
        "    import geemap\n",
        "except ImportError:\n",
        "    print('Installing geemap ...')\n",
        "    subprocess.check_call([\"python\", '-m', 'pip', 'install', 'geemap'])"
      ],
      "metadata": {
        "id": "givRacggG1r3",
        "outputId": "5b268928-46ff-4aee-d81f-209be75332f5",
        "colab": {
          "base_uri": "https://localhost:8080/"
        }
      },
      "execution_count": null,
      "outputs": [
        {
          "output_type": "stream",
          "name": "stdout",
          "text": [
            "Installing geemap ...\n"
          ]
        }
      ]
    },
    {
      "cell_type": "code",
      "source": [
        "# Import the Earth Engine Python Package\n",
        "import ee\n",
        "import geemap\n",
        "import pandas as pd\n",
        "import numpy as np\n",
        "import geopandas as gpd"
      ],
      "metadata": {
        "id": "px2VNtDW7L3v"
      },
      "execution_count": null,
      "outputs": []
    },
    {
      "cell_type": "code",
      "metadata": {
        "id": "S5lgF-yhEC-n"
      },
      "source": [
        "# Initialize the Earth Engine object, using the authentication credentials.\n",
        "ee.Initialize()"
      ],
      "execution_count": null,
      "outputs": []
    },
    {
      "cell_type": "code",
      "source": [
        "Map = geemap.Map()"
      ],
      "metadata": {
        "id": "c9RE2feVHEcI"
      },
      "execution_count": null,
      "outputs": []
    },
    {
      "cell_type": "code",
      "metadata": {
        "id": "OXGrWxx9ibuL"
      },
      "source": [
        "# Cloud masking function for Sentinel-2.\n",
        "def slopeReprojected(image):\n",
        "\n",
        "  return slopeReprojected\n"
      ],
      "execution_count": null,
      "outputs": []
    },
    {
      "cell_type": "code",
      "source": [
        "# The image input data is cloud-masked median composite.\n",
        "elevation = ee.Image(\"NASA/NASADEM_HGT/001\").select('elevation')\n",
        "background = ee.Image(1)\n",
        "elevationVis = {\n",
        "  'min': 0,\n",
        "  'max': 2000,\n",
        "}\n",
        "Map.addLayer(elevation.updateMask(elevation.gt(0)), elevationVis, 'Elevation')"
      ],
      "metadata": {
        "id": "f91ZnDIlISUR"
      },
      "execution_count": null,
      "outputs": []
    },
    {
      "cell_type": "markdown",
      "metadata": {
        "id": "QaROQmT4Oyw4"
      },
      "source": [
        "Editing the next cell the user can select the spectral bands to be included on the image patches."
      ]
    },
    {
      "cell_type": "markdown",
      "metadata": {
        "id": "xJIw1aFOD2ZE"
      },
      "source": [
        "On the following the user will be able to choose a csv file from his Google Drive root containing the coordinates (latitude and longitude) of the spots from which he wants to extract the image patches. Additionally, he will be prompted to inform the columns separator used in the csv file. \n",
        "\n",
        "The polygons delimiting the areas of interest described on the csv file can be defined using one of the following schemes:\n",
        "\n",
        "1: using two pairs of coordinates indicating the lower-left  (souththwest) and the upper right (northeast) corners of the polygon;\n",
        "\n",
        "2: defining the coordinates of a central point and the length of the side of a square defined around that point.\n",
        "\n",
        "The user will be prompted to inform which scheme should be used to read the csv file (all records on the file should use the same scheme).\n",
        "\n",
        "A last column on the csv file should be used to inform a class name for the sample. This class name will be used as prefix to name the image files.\n",
        "\n",
        "The csv records should look like this:\n",
        "\n",
        "####-column separator =';' and scheme 1:\n",
        "\n",
        "> lower left y latitude; lower left x longitude; upper right y latitude; upper right x longitude;  class\n",
        "\n",
        "> -20.893706;-45.271998;-18.854222;-41.958905;area1\n",
        "\n",
        "\n",
        "####-column separator =';' and scheme 2:\n",
        "> central point latitude; central point longitude; class name\n",
        "\n",
        ">-23.82113889;-50.42022222;dam\n",
        "\n"
      ]
    },
    {
      "cell_type": "code",
      "metadata": {
        "id": "iTOhU5NdjMzU"
      },
      "source": [
        "def offset(lat,lon,x,y):\n",
        "\n",
        "\t#Earth’s radius, sphere\n",
        "\tR=6378137\n",
        "\n",
        "\t#Coordinate offsets in radians\n",
        "\tdLat = x/R\n",
        "\tdLon = y/(R*math.cos(math.pi*lat/180))\n",
        "\n",
        "\treturn lat + dLat * 180/math.pi, lon + dLon * 180/math.pi\n",
        " \n",
        "\n",
        "def exportImage(data,scheme,size=0):\n",
        "\n",
        "\t# Loop the csv file.\n",
        "\n",
        "\tfor d in range(data.shape[0]):\n",
        "\n",
        "\t\tif scheme == 2:\t\n",
        "\t\t\tx = data[d][0]\n",
        "\t\t\ty = data[d][1]\n",
        "\n",
        "\t\t\tllx , lly = offset(x,y,-size/2,-size/2)\n",
        "\t\t\turx , ury = offset(x,y,size/2,\tsize/2)\n",
        "\n",
        "\t\t\tlabel = data[d][2]\n",
        "\t \n",
        "\t\telse:\n",
        "\n",
        "\t\t\tllx = data[d][0]\n",
        "\t\t\tlly = data[d][1]\n",
        "\t\t\turx = data[d][2]\n",
        "\t\t\tury = data[d][3]\t\n",
        "\n",
        "\t\t\tlabel = data[d][4]\t\n",
        "\n",
        "\t\tgeometry = [[llx,lly], [llx,ury], [urx,ury], [urx,lly]]\n",
        "\n",
        "\t\ttask_config = {\n",
        "\t    'scale':  10 ,\n",
        "\t    'region': geometry\n",
        "\t    }\n",
        "\t\t\n",
        "\t\tname = label + str(d)\n",
        "\t\t# Create a task.\n",
        "\t\ttask = ee.batch.Export.image(elevation, name, task_config)\n",
        "\n",
        "\t\t# Send the task to the earth engine.\n",
        "\t\ttask.start()    "
      ],
      "execution_count": null,
      "outputs": []
    },
    {
      "cell_type": "markdown",
      "metadata": {
        "id": "mBTSvF9jyJ4D"
      },
      "source": [
        "If the script was succesfull the tasks should be visible on Google Earth Engine code editor (https://code.earthengine.google.com/) interface. The user must log on to authorize the tasks execution."
      ]
    },
    {
      "cell_type": "code",
      "source": [
        "#MAIN WORKFLOW\n",
        "\n",
        "# assuming the csv file on the My drive root folder (change the %cd if it is not the case)\n",
        "%cd /content/drive/My Drive/Topography_Images\n",
        "files = []\n",
        "count=0\n",
        "for f in os.listdir('./'):\n",
        "  name, ext = os.path.splitext(f)\n",
        "  if ext == '.csv':\n",
        "    files.append(f)\n",
        "    count+=1\n",
        "    print(count,\":\",f)\n",
        "\n",
        "print(\"Choose your file:\")\n",
        "try:\n",
        "  r=int(input('Input:'))\n",
        "except ValueError:\n",
        "  print(\"Not a number\")\n",
        "\n",
        "print(\"csv separator? (typically ';' or ',')\")\n",
        "sep=input('Input:')\n",
        "\n",
        "data = pd.read_csv(files[r-1], sep= sep)\n",
        "data = data.values\n",
        "\n",
        "print(data.shape[0],\"records with\",data.shape[1],\"columns\")\n",
        "\n",
        "if data.shape[1]==3:\n",
        "  print(\"Central point scheme. Please inform the square side length (in meters):\")\n",
        "  try:\n",
        "    size=int(input('Input:'))\n",
        "  except ValueError:\n",
        "    print(\"Not a number\")\n",
        "  exportImage(data,2,size)\n",
        "elif data.shape[1]==5:\n",
        "  exportImage(data,1)\n",
        "else:\n",
        "  print(\"Invalid csv file!\")\n",
        "  sys.exit(0)"
      ],
      "metadata": {
        "id": "iuArcd8g_lOK",
        "outputId": "aa816f45-3818-4930-b20a-d58324225e70",
        "colab": {
          "base_uri": "https://localhost:8080/"
        }
      },
      "execution_count": null,
      "outputs": [
        {
          "output_type": "stream",
          "name": "stdout",
          "text": [
            "/content/drive/My Drive/Topography_Images\n",
            "1 : pictures_file.csv\n",
            "Choose your file:\n",
            "Input:1\n",
            "csv separator? (typically ';' or ',')\n",
            "Input:;\n",
            "755 records with 5 columns\n"
          ]
        }
      ]
    }
  ]
}